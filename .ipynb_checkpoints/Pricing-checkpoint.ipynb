{
 "cells": [
  {
   "cell_type": "code",
   "execution_count": 1,
   "metadata": {},
   "outputs": [],
   "source": [
    "import oandadata\n",
    "from oanda_utils import pricing_utils\n",
    "from datetime import datetime"
   ]
  },
  {
   "cell_type": "code",
   "execution_count": 2,
   "metadata": {},
   "outputs": [],
   "source": [
    "accountID = oandadata.ID\n",
    "token = oandadata.TOKEN\n",
    "instruments = [\"EUR_USD\", \"EUR_JPY\"]"
   ]
  },
  {
   "cell_type": "code",
   "execution_count": null,
   "metadata": {},
   "outputs": [],
   "source": [
    "# Pricing info\n",
    "pricing_info_request = pricing_utils.pricing_info(accountID=accountID, token=token, instruments=instruments)"
   ]
  },
  {
   "cell_type": "code",
   "execution_count": 3,
   "metadata": {},
   "outputs": [],
   "source": [
    "# Pricing stream\n",
    "pricing_stream = pricing_utils.pricing_stream(accountID=accountID, token=token, instruments=instruments)\n",
    "\n",
    "while datetime.time(datetime.now()) < datetime.time(datetime.strptime(\"06:33\", \"%H:%M\")):\n",
    "    print(pricing_stream.send(None))"
   ]
  },
  {
   "cell_type": "code",
   "execution_count": null,
   "metadata": {},
   "outputs": [],
   "source": []
  }
 ],
 "metadata": {
  "kernelspec": {
   "display_name": "Python 3",
   "language": "python",
   "name": "python3"
  },
  "language_info": {
   "codemirror_mode": {
    "name": "ipython",
    "version": 3
   },
   "file_extension": ".py",
   "mimetype": "text/x-python",
   "name": "python",
   "nbconvert_exporter": "python",
   "pygments_lexer": "ipython3",
   "version": "3.6.5"
  }
 },
 "nbformat": 4,
 "nbformat_minor": 2
}
