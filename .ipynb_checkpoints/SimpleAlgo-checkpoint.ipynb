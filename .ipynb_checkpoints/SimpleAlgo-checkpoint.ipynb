{
 "cells": [
  {
   "cell_type": "code",
   "execution_count": 1,
   "metadata": {},
   "outputs": [],
   "source": [
    "import oandadata\n",
    "from oanda_utils import pricing_utils, order_utils, position_utils\n",
    "from datetime import datetime"
   ]
  },
  {
   "cell_type": "code",
   "execution_count": 2,
   "metadata": {},
   "outputs": [],
   "source": [
    "accountID = oandadata.ID\n",
    "token = oandadata.TOKEN\n",
    "instruments = [\"XAU_USD\"]"
   ]
  },
  {
   "cell_type": "code",
   "execution_count": 3,
   "metadata": {},
   "outputs": [],
   "source": [
    "def get_price_change(initial_price, current_price):\n",
    "    return (current_price/initial_price - 1) * 100\n",
    "def get_current_price(pricing_stream):\n",
    "    while True:\n",
    "        pricing = pricing_stream.send(None)\n",
    "        asks = pricing.get('asks')\n",
    "        bids = pricing.get('bids')\n",
    "        avg = 0\n",
    "        count = 0\n",
    "        if asks != None:\n",
    "            avg += float(asks[-1].get('price'))\n",
    "            count += 1\n",
    "        if bids != None:\n",
    "            avg += float(bids[-1].get('price'))\n",
    "            count += 1\n",
    "        if avg != 0:\n",
    "            avg /= count\n",
    "            return avg\n",
    "def get_current_bid_price(pricing_stream):\n",
    "    while True:\n",
    "        pricing = pricing_stream.send(None)\n",
    "        bids = pricing.get('bids')\n",
    "        if bids != None:\n",
    "            return float(bids[-1].get('price'))\n",
    "def long(accountID, token, enter_price, stop, instrument, quantity):\n",
    "    send_order_request = order_utils.send_order(accountID=accountID, token=token, enter_price=enter_price, take_profit_price=enter_price+stop, stop_price=enter_price-stop, instrument=instrument, quantity=quantity)\n",
    "    return send_order_request\n",
    "def short(accountID, token, enter_price, stop, instrument, quantity):\n",
    "    send_order_request = order_utils.send_order(accountID=accountID, token=token, enter_price=enter_price, take_profit_price=enter_price-stop, stop_price=enter_price+stop, instrument=instrument, quantity=-quantity)\n",
    "    return send_order_request"
   ]
  },
  {
   "cell_type": "code",
   "execution_count": 5,
   "metadata": {},
   "outputs": [],
   "source": [
    "pricing_stream = pricing_utils.pricing_stream(accountID=accountID, token=token, instruments=instruments)\n",
    "enter_price = get_current_price(pricing_stream=pricing_stream)\n",
    "short(accountID, token, enter_price, 0.5, instruments[0], 10)\n",
    "open_positions_request = position_utils.open_positions(accountID=accountID, token=token)"
   ]
  },
  {
   "cell_type": "code",
   "execution_count": 17,
   "metadata": {},
   "outputs": [],
   "source": [
    "close_positions_request = position_utils.close_positions(accountID=accountID, token=token, instrument=\"XAU_USD\", units_type=\"long\", quantity=5)"
   ]
  },
  {
   "cell_type": "code",
   "execution_count": null,
   "metadata": {},
   "outputs": [],
   "source": [
    "replace_order_request = order_utils.replace_order(accountID=accountID, token=token, enter_price=1.20, stop_price=1.23, orderID=114, instrument='XAU_USD', quantity=-5)"
   ]
  }
 ],
 "metadata": {
  "kernelspec": {
   "display_name": "Python 3",
   "language": "python",
   "name": "python3"
  },
  "language_info": {
   "codemirror_mode": {
    "name": "ipython",
    "version": 3
   },
   "file_extension": ".py",
   "mimetype": "text/x-python",
   "name": "python",
   "nbconvert_exporter": "python",
   "pygments_lexer": "ipython3",
   "version": "3.6.5"
  }
 },
 "nbformat": 4,
 "nbformat_minor": 2
}
